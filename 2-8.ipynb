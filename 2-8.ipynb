{
 "cells": [
  {
   "cell_type": "code",
   "execution_count": 38,
   "metadata": {},
   "outputs": [
    {
     "name": "stdout",
     "output_type": "stream",
     "text": [
      ": Ayush\n",
      " \t Raj :\n",
      ": ush\n",
      " \t Raj :\n",
      ": Ayush\n",
      " \t R :\n",
      ": sh\n",
      " \t R :\n"
     ]
    }
   ],
   "source": [
    "print (\"addition : \" + str(5+3))\n",
    "print (\"substraction : \" + str(10-2) )\n",
    "print('Multiply : ' + str())"
   ]
  },
  {
   "cell_type": "code",
   "execution_count": null,
   "metadata": {},
   "outputs": [],
   "source": []
  }
 ],
 "metadata": {
  "kernelspec": {
   "display_name": "Python 3",
   "language": "python",
   "name": "python3"
  },
  "language_info": {
   "codemirror_mode": {
    "name": "ipython",
    "version": 3
   },
   "file_extension": ".py",
   "mimetype": "text/x-python",
   "name": "python",
   "nbconvert_exporter": "python",
   "pygments_lexer": "ipython3",
   "version": "3.7.1"
  }
 },
 "nbformat": 4,
 "nbformat_minor": 2
}
